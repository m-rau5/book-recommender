{
 "cells": [
  {
   "cell_type": "markdown",
   "id": "91bddc02-53a2-4585-b883-7fc67aa31b23",
   "metadata": {},
   "source": [
    "## Setup"
   ]
  },
  {
   "cell_type": "code",
   "execution_count": 1,
   "id": "ba6c0ad1-b605-4526-ab0c-c1f7547fa4a2",
   "metadata": {},
   "outputs": [],
   "source": [
    "import pandas as pd\n",
    "from sklearn.feature_extraction.text import TfidfVectorizer\n",
    "from sklearn.metrics.pairwise import cosine_similarity"
   ]
  },
  {
   "cell_type": "code",
   "execution_count": 2,
   "id": "c20bf7e8-9a4a-4742-b34d-4e94036451ea",
   "metadata": {},
   "outputs": [
    {
     "data": {
      "text/plain": [
       "(2332, 11)"
      ]
     },
     "execution_count": 2,
     "metadata": {},
     "output_type": "execute_result"
    }
   ],
   "source": [
    "book_df = pd.read_csv(\"../datasets/clean/filtered_datasets/Final/final_books.csv\")\n",
    "book_df.shape"
   ]
  },
  {
   "cell_type": "markdown",
   "id": "b109531e-6dac-4ad8-9b54-8163004312eb",
   "metadata": {},
   "source": [
    "---"
   ]
  },
  {
   "cell_type": "markdown",
   "id": "5ec069be-830f-4848-8d5f-9f30ec780f06",
   "metadata": {},
   "source": [
    "## Tf-Idf setup + preprocessing"
   ]
  },
  {
   "cell_type": "markdown",
   "id": "0b01d39e-02de-4663-a9bd-c81ea90bdb5b",
   "metadata": {},
   "source": [
    "We setup tfidf by setting the stop words in english and editing all empty descriptions to be ''.\n",
    "\n",
    "Then we just fit Tf-Idf over our descriptions"
   ]
  },
  {
   "cell_type": "code",
   "execution_count": 3,
   "id": "a9522bb9-ded7-4af2-86be-5887d159002d",
   "metadata": {},
   "outputs": [
    {
     "data": {
      "text/plain": [
       "(2332, 16492)"
      ]
     },
     "execution_count": 3,
     "metadata": {},
     "output_type": "execute_result"
    }
   ],
   "source": [
    "#def a TF-IDF Vectorizer Object. Remove all english stop words such as 'the', 'a' etc.\n",
    "tfidf = TfidfVectorizer(stop_words='english')\n",
    "\n",
    "#Make empty cells into empty strings (should not be a lot of them)\n",
    "# book_df['description'] = book_df['description'].fillna('') -> NO MORE CUZ WE REMOVED THEM\n",
    "\n",
    "#Make TF-IDF matrix by fitting and transforming the data\n",
    "tfidf_matrix = tfidf.fit_transform(book_df['description'])\n",
    "tfidf_matrix.shape"
   ]
  },
  {
   "cell_type": "markdown",
   "id": "22296de0-e40b-4450-b896-abc03eb82ae1",
   "metadata": {},
   "source": [
    "Fit cosine similarity over the tfidf matrix"
   ]
  },
  {
   "cell_type": "code",
   "execution_count": 4,
   "id": "42072cab-a3fc-4100-81d1-a93e3fc9382f",
   "metadata": {},
   "outputs": [],
   "source": [
    "cosine_sim = cosine_similarity(tfidf_matrix, tfidf_matrix)"
   ]
  },
  {
   "cell_type": "markdown",
   "id": "a7d5039a-dd5d-499c-b1d0-691f7bfaedf8",
   "metadata": {},
   "source": [
    "We create an indices matrix so we can search book index by name"
   ]
  },
  {
   "cell_type": "code",
   "execution_count": 5,
   "id": "f835efbe-723b-49d4-8cec-9ad48f071e80",
   "metadata": {},
   "outputs": [],
   "source": [
    "title_to_id_map = pd.Series(book_df['Book-Id'].values, index=book_df['Book-Title']).to_dict()"
   ]
  },
  {
   "cell_type": "markdown",
   "id": "57b085c2-c02e-45ab-8703-25078dd9239d",
   "metadata": {},
   "source": [
    "---"
   ]
  },
  {
   "cell_type": "markdown",
   "id": "59d1b728-84a7-43c1-949c-b036edc451f7",
   "metadata": {},
   "source": [
    "## Generating recommendations"
   ]
  },
  {
   "cell_type": "markdown",
   "id": "3d179db9-4790-4f6f-80da-dc2d6143bca5",
   "metadata": {},
   "source": [
    "We create the function that takes in a book title as input and outputs most similar books"
   ]
  },
  {
   "cell_type": "code",
   "execution_count": 6,
   "id": "1c00b6f1-1274-40f7-b815-313d5340911e",
   "metadata": {},
   "outputs": [],
   "source": [
    "def get_recommendations(title,amount = 10, cosine_sim=cosine_sim, book_df = book_df):\n",
    "    if title in book_df['Book-Title'].values:\n",
    "        idx = book_df.loc[book_df['Book-Title'] == title, 'Book-Id'].values[0]\n",
    "    else:\n",
    "        print(f\"Book title '{title}' not found in the DataFrame.\")\n",
    "        return None\n",
    "    sim_scores = list(enumerate(cosine_sim[idx]))\n",
    "\n",
    "    # sort by most similar and get top 10 similar books\n",
    "    sim_scores = sorted(sim_scores, key=lambda x: x[1], reverse=True)\n",
    "    sim_scores = sim_scores[1:amount+1]\n",
    "    \n",
    "    book_indices = [i[0] for i in sim_scores]\n",
    "\n",
    "    recommended_books = book_df[['Book-Title','categories','description']].iloc[book_indices]\n",
    "    recommended_books_df = pd.DataFrame(recommended_books)\n",
    "    return recommended_books_df"
   ]
  },
  {
   "cell_type": "code",
   "execution_count": 7,
   "id": "8d16ce96-d254-49fd-9708-949bf02d6566",
   "metadata": {},
   "outputs": [
    {
     "data": {
      "text/html": [
       "<div>\n",
       "<style scoped>\n",
       "    .dataframe tbody tr th:only-of-type {\n",
       "        vertical-align: middle;\n",
       "    }\n",
       "\n",
       "    .dataframe tbody tr th {\n",
       "        vertical-align: top;\n",
       "    }\n",
       "\n",
       "    .dataframe thead th {\n",
       "        text-align: right;\n",
       "    }\n",
       "</style>\n",
       "<table border=\"1\" class=\"dataframe\">\n",
       "  <thead>\n",
       "    <tr style=\"text-align: right;\">\n",
       "      <th></th>\n",
       "      <th>Book-Title</th>\n",
       "      <th>categories</th>\n",
       "      <th>description</th>\n",
       "    </tr>\n",
       "  </thead>\n",
       "  <tbody>\n",
       "    <tr>\n",
       "      <th>844</th>\n",
       "      <td>The Languages of Tolkien's Middle-Earth</td>\n",
       "      <td>Fiction</td>\n",
       "      <td>Explains the fourteen different languages and ...</td>\n",
       "    </tr>\n",
       "    <tr>\n",
       "      <th>498</th>\n",
       "      <td>The Hobbit: Or There and Back Again</td>\n",
       "      <td>Juvenile Fiction</td>\n",
       "      <td>A newly rejacketed edition of the classic tale...</td>\n",
       "    </tr>\n",
       "    <tr>\n",
       "      <th>876</th>\n",
       "      <td>Island of Bones</td>\n",
       "      <td>Fiction</td>\n",
       "      <td>When the bullet-ridden body of a woman, identi...</td>\n",
       "    </tr>\n",
       "    <tr>\n",
       "      <th>145</th>\n",
       "      <td>The Return of the King (The Lord of the Rings,...</td>\n",
       "      <td>Fantasy fiction</td>\n",
       "      <td>In a sleepy village in the Shire, a young hobb...</td>\n",
       "    </tr>\n",
       "    <tr>\n",
       "      <th>1836</th>\n",
       "      <td>The Return of the Shadow (The History of The L...</td>\n",
       "      <td>Fiction</td>\n",
       "      <td>In this sixth volume of The History of Middle-...</td>\n",
       "    </tr>\n",
       "    <tr>\n",
       "      <th>949</th>\n",
       "      <td>Phoenix: Terrible Swift Sword: Volume Two in t...</td>\n",
       "      <td>History</td>\n",
       "      <td>The second episode in this award-winning trilo...</td>\n",
       "    </tr>\n",
       "    <tr>\n",
       "      <th>28</th>\n",
       "      <td>The Two Towers (The Lord of the Rings, Part 2)</td>\n",
       "      <td>Fiction</td>\n",
       "      <td>Frodo Baggins, Sam, and a small band of compan...</td>\n",
       "    </tr>\n",
       "    <tr>\n",
       "      <th>419</th>\n",
       "      <td>The Two Towers (The Lord of the Rings, Part 2)</td>\n",
       "      <td>Fiction</td>\n",
       "      <td>The standard hardcover edition of the second v...</td>\n",
       "    </tr>\n",
       "    <tr>\n",
       "      <th>671</th>\n",
       "      <td>Swan Song</td>\n",
       "      <td>Fiction</td>\n",
       "      <td>An ancient evil roams the desolate landscape o...</td>\n",
       "    </tr>\n",
       "    <tr>\n",
       "      <th>2173</th>\n",
       "      <td>Fear of Falling: The Inner Life of the Middle ...</td>\n",
       "      <td>Social Science</td>\n",
       "      <td>A brilliant and insightful work that examines ...</td>\n",
       "    </tr>\n",
       "  </tbody>\n",
       "</table>\n",
       "</div>"
      ],
      "text/plain": [
       "                                             Book-Title        categories  \\\n",
       "844             The Languages of Tolkien's Middle-Earth           Fiction   \n",
       "498                 The Hobbit: Or There and Back Again  Juvenile Fiction   \n",
       "876                                     Island of Bones           Fiction   \n",
       "145   The Return of the King (The Lord of the Rings,...   Fantasy fiction   \n",
       "1836  The Return of the Shadow (The History of The L...           Fiction   \n",
       "949   Phoenix: Terrible Swift Sword: Volume Two in t...           History   \n",
       "28       The Two Towers (The Lord of the Rings, Part 2)           Fiction   \n",
       "419      The Two Towers (The Lord of the Rings, Part 2)           Fiction   \n",
       "671                                           Swan Song           Fiction   \n",
       "2173  Fear of Falling: The Inner Life of the Middle ...    Social Science   \n",
       "\n",
       "                                            description  \n",
       "844   Explains the fourteen different languages and ...  \n",
       "498   A newly rejacketed edition of the classic tale...  \n",
       "876   When the bullet-ridden body of a woman, identi...  \n",
       "145   In a sleepy village in the Shire, a young hobb...  \n",
       "1836  In this sixth volume of The History of Middle-...  \n",
       "949   The second episode in this award-winning trilo...  \n",
       "28    Frodo Baggins, Sam, and a small band of compan...  \n",
       "419   The standard hardcover edition of the second v...  \n",
       "671   An ancient evil roams the desolate landscape o...  \n",
       "2173  A brilliant and insightful work that examines ...  "
      ]
     },
     "execution_count": 7,
     "metadata": {},
     "output_type": "execute_result"
    }
   ],
   "source": [
    "# pd.set_option('display.max_colwidth', 500) # -> to see more from the description\n",
    "get_recommendations('The Lord of the Rings',amount=10)"
   ]
  },
  {
   "cell_type": "code",
   "execution_count": 8,
   "id": "70b0a6b2-339b-4742-9049-e8ff7bc2a00b",
   "metadata": {},
   "outputs": [
    {
     "data": {
      "text/html": [
       "<div>\n",
       "<style scoped>\n",
       "    .dataframe tbody tr th:only-of-type {\n",
       "        vertical-align: middle;\n",
       "    }\n",
       "\n",
       "    .dataframe tbody tr th {\n",
       "        vertical-align: top;\n",
       "    }\n",
       "\n",
       "    .dataframe thead th {\n",
       "        text-align: right;\n",
       "    }\n",
       "</style>\n",
       "<table border=\"1\" class=\"dataframe\">\n",
       "  <thead>\n",
       "    <tr style=\"text-align: right;\">\n",
       "      <th></th>\n",
       "      <th>Book-Title</th>\n",
       "      <th>categories</th>\n",
       "      <th>description</th>\n",
       "    </tr>\n",
       "  </thead>\n",
       "  <tbody>\n",
       "    <tr>\n",
       "      <th>350</th>\n",
       "      <td>Suffer the Children</td>\n",
       "      <td>Fiction</td>\n",
       "      <td>100 years after a young girl's murder, childre...</td>\n",
       "    </tr>\n",
       "    <tr>\n",
       "      <th>1840</th>\n",
       "      <td>Life: A User's Manual</td>\n",
       "      <td>Fiction</td>\n",
       "      <td>Represents an exploration of the relationship ...</td>\n",
       "    </tr>\n",
       "    <tr>\n",
       "      <th>2232</th>\n",
       "      <td>The Jungle: The Uncensored Original Edition</td>\n",
       "      <td>Fiction</td>\n",
       "      <td>The horrifying conditions of the Chicago stock...</td>\n",
       "    </tr>\n",
       "    <tr>\n",
       "      <th>634</th>\n",
       "      <td>Human Croquet</td>\n",
       "      <td>Fiction</td>\n",
       "      <td>A dark yet moving exploration of a young girl'...</td>\n",
       "    </tr>\n",
       "    <tr>\n",
       "      <th>1735</th>\n",
       "      <td>The Railway Children (Penguin Popular Classics)</td>\n",
       "      <td>Fiction</td>\n",
       "      <td>When their father is sent away to prison, thre...</td>\n",
       "    </tr>\n",
       "    <tr>\n",
       "      <th>1815</th>\n",
       "      <td>The Waste Land and Other Writings (Modern Libr...</td>\n",
       "      <td>Poetry</td>\n",
       "      <td>First published in 1922, \"The Waste Land\" is T...</td>\n",
       "    </tr>\n",
       "    <tr>\n",
       "      <th>1022</th>\n",
       "      <td>The Diamond Age (Bantam Spectra Book)</td>\n",
       "      <td>Fiction</td>\n",
       "      <td>The story of an engineer who creates a device ...</td>\n",
       "    </tr>\n",
       "    <tr>\n",
       "      <th>1406</th>\n",
       "      <td>The Living Blood</td>\n",
       "      <td>Fiction</td>\n",
       "      <td>Struggling to rebuild her life after the disap...</td>\n",
       "    </tr>\n",
       "    <tr>\n",
       "      <th>870</th>\n",
       "      <td>Savannah Blues</td>\n",
       "      <td>Fiction</td>\n",
       "      <td>Landing a catch like Talmadge Evans III got El...</td>\n",
       "    </tr>\n",
       "    <tr>\n",
       "      <th>345</th>\n",
       "      <td>Thin Air</td>\n",
       "      <td>Fiction</td>\n",
       "      <td>When Lisa St. Claire, the beautiful young brid...</td>\n",
       "    </tr>\n",
       "  </tbody>\n",
       "</table>\n",
       "</div>"
      ],
      "text/plain": [
       "                                             Book-Title categories  \\\n",
       "350                                 Suffer the Children    Fiction   \n",
       "1840                              Life: A User's Manual    Fiction   \n",
       "2232        The Jungle: The Uncensored Original Edition    Fiction   \n",
       "634                                       Human Croquet    Fiction   \n",
       "1735    The Railway Children (Penguin Popular Classics)    Fiction   \n",
       "1815  The Waste Land and Other Writings (Modern Libr...     Poetry   \n",
       "1022              The Diamond Age (Bantam Spectra Book)    Fiction   \n",
       "1406                                   The Living Blood    Fiction   \n",
       "870                                      Savannah Blues    Fiction   \n",
       "345                                            Thin Air    Fiction   \n",
       "\n",
       "                                            description  \n",
       "350   100 years after a young girl's murder, childre...  \n",
       "1840  Represents an exploration of the relationship ...  \n",
       "2232  The horrifying conditions of the Chicago stock...  \n",
       "634   A dark yet moving exploration of a young girl'...  \n",
       "1735  When their father is sent away to prison, thre...  \n",
       "1815  First published in 1922, \"The Waste Land\" is T...  \n",
       "1022  The story of an engineer who creates a device ...  \n",
       "1406  Struggling to rebuild her life after the disap...  \n",
       "870   Landing a catch like Talmadge Evans III got El...  \n",
       "345   When Lisa St. Claire, the beautiful young brid...  "
      ]
     },
     "execution_count": 8,
     "metadata": {},
     "output_type": "execute_result"
    }
   ],
   "source": [
    "get_recommendations('Midnight Voices',10)"
   ]
  },
  {
   "cell_type": "code",
   "execution_count": null,
   "id": "b05f0b78-a463-44ce-a99e-114d70d83237",
   "metadata": {},
   "outputs": [],
   "source": []
  }
 ],
 "metadata": {
  "kernelspec": {
   "display_name": "Python 3 (ipykernel)",
   "language": "python",
   "name": "python3"
  },
  "language_info": {
   "codemirror_mode": {
    "name": "ipython",
    "version": 3
   },
   "file_extension": ".py",
   "mimetype": "text/x-python",
   "name": "python",
   "nbconvert_exporter": "python",
   "pygments_lexer": "ipython3",
   "version": "3.12.3"
  }
 },
 "nbformat": 4,
 "nbformat_minor": 5
}
