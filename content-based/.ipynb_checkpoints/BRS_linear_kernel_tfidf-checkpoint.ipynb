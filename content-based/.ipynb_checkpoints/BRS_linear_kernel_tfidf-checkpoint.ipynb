{
 "cells": [
  {
   "cell_type": "markdown",
   "id": "2e4436e3-ec5a-4691-b0f9-612244735434",
   "metadata": {},
   "source": [
    "## Setup"
   ]
  },
  {
   "cell_type": "code",
   "execution_count": 1,
   "id": "6bfa463a-2bd7-4825-be9c-0ce60115a906",
   "metadata": {},
   "outputs": [],
   "source": [
    "import pandas as pd\n",
    "from sklearn.feature_extraction.text import TfidfVectorizer\n",
    "from sklearn.metrics.pairwise import linear_kernel # faster here because of how TfidfVectorizer works"
   ]
  },
  {
   "cell_type": "code",
   "execution_count": 2,
   "id": "2992f4db-940e-4687-ad55-f049ae73bf9a",
   "metadata": {},
   "outputs": [
    {
     "data": {
      "text/plain": [
       "(2332, 11)"
      ]
     },
     "execution_count": 2,
     "metadata": {},
     "output_type": "execute_result"
    }
   ],
   "source": [
    "book_df = pd.read_csv(\"../datasets/clean/filtered_datasets/Final/final_books.csv\")\n",
    "book_df.shape"
   ]
  },
  {
   "cell_type": "markdown",
   "id": "766ecd74-87b7-46f5-8941-1223fb0aae13",
   "metadata": {},
   "source": [
    "---"
   ]
  },
  {
   "cell_type": "markdown",
   "id": "3e1a3213-7e80-4ba0-942a-bd064f796537",
   "metadata": {},
   "source": [
    "## Tf-Idf setup + preprocessing"
   ]
  },
  {
   "cell_type": "markdown",
   "id": "bf418cd2-075d-4a12-87ec-e0124441fc6f",
   "metadata": {},
   "source": [
    "We setup tfidf by setting the stop words in english and editing all empty descriptions to be ''.\n",
    "\n",
    "Then we just fit Tf-Idf over our descriptions"
   ]
  },
  {
   "cell_type": "code",
   "execution_count": 3,
   "id": "96c0846d-20af-4b98-97f8-9e3f4c0a7e81",
   "metadata": {},
   "outputs": [
    {
     "data": {
      "text/plain": [
       "(2332, 16492)"
      ]
     },
     "execution_count": 3,
     "metadata": {},
     "output_type": "execute_result"
    }
   ],
   "source": [
    "#def a TF-IDF Vectorizer Object. Remove all english stop words such as 'the', 'a' etc.\n",
    "tfidf = TfidfVectorizer(stop_words='english')\n",
    "\n",
    "#Make empty cells into empty strings (should not be a lot of them)\n",
    "# book_df['description'] = book_df['description'].fillna('') -> NO MORE CUZ WE REMOVED THEM\n",
    "\n",
    "#Make TF-IDF matrix by fitting and transforming the data\n",
    "tfidf_matrix = tfidf.fit_transform(book_df['description'])\n",
    "tfidf_matrix.shape"
   ]
  },
  {
   "cell_type": "markdown",
   "id": "06f5fcad-86ef-4e96-9575-803aeeb8ad61",
   "metadata": {},
   "source": [
    "Fit linear kernel over the tfidf matrix"
   ]
  },
  {
   "cell_type": "code",
   "execution_count": 4,
   "id": "894b2c22-ac26-48bd-a9f6-7df56d6e4d40",
   "metadata": {},
   "outputs": [],
   "source": [
    "linear_kernel = linear_kernel(tfidf_matrix, tfidf_matrix)\n",
    "# Look at other similarity functions"
   ]
  },
  {
   "cell_type": "markdown",
   "id": "71f1207e-d1ae-4cd0-a0ab-8c0213c77236",
   "metadata": {},
   "source": [
    "We create an indices matrix so we can search book index by name"
   ]
  },
  {
   "cell_type": "code",
   "execution_count": 5,
   "id": "9e8848e6-b367-470e-982b-595125ff816d",
   "metadata": {},
   "outputs": [],
   "source": [
    "indices = pd.Series(book_df.index, index=book_df['Book-Title']).drop_duplicates()"
   ]
  },
  {
   "cell_type": "markdown",
   "id": "c37ef978-f5f4-41af-ab99-2571fb80212a",
   "metadata": {},
   "source": [
    "---"
   ]
  },
  {
   "cell_type": "markdown",
   "id": "0c361633-8434-4f42-9b92-c04b2990c8f8",
   "metadata": {},
   "source": [
    "## Generating recommendations"
   ]
  },
  {
   "cell_type": "markdown",
   "id": "d1fd2d6d-f0c4-49a7-8958-2b4c5ca13861",
   "metadata": {},
   "source": [
    "We create the function that takes in a book title as input and outputs most similar books"
   ]
  },
  {
   "cell_type": "code",
   "execution_count": 21,
   "id": "d41e6542-9d59-4a00-8ac0-5097f578076f",
   "metadata": {},
   "outputs": [],
   "source": [
    "def get_recommendations(title,amount = 10, linear_kernel=linear_kernel):\n",
    "    if title in book_df['Book-Title'].values:\n",
    "        idx = book_df.loc[book_df['Book-Title'] == title, 'Book-Id'].values[0]\n",
    "    else:\n",
    "        print(f\"Book title '{title}' not found in the DataFrame.\")\n",
    "        return None\n",
    "    sim_scores = list(enumerate(linear_kernel[idx]))\n",
    "\n",
    "    # sort by most similar and get top 10 similar books\n",
    "    sim_scores = sorted(sim_scores, key=lambda x: x[1], reverse=True)\n",
    "    sim_scores = sim_scores[1:amount+1]\n",
    "    \n",
    "    book_indices = [i[0] for i in sim_scores]\n",
    "    recommended_df = book_df[['Book-Title','categories','description']].iloc[book_indices]\n",
    "    recommended_df = pd.DataFrame(recommended_df)\n",
    "    return recommended_df"
   ]
  },
  {
   "cell_type": "code",
   "execution_count": 22,
   "id": "1c8a51ad-6d04-45f2-9c8a-57f1e9f223e4",
   "metadata": {},
   "outputs": [
    {
     "data": {
      "text/html": [
       "<div>\n",
       "<style scoped>\n",
       "    .dataframe tbody tr th:only-of-type {\n",
       "        vertical-align: middle;\n",
       "    }\n",
       "\n",
       "    .dataframe tbody tr th {\n",
       "        vertical-align: top;\n",
       "    }\n",
       "\n",
       "    .dataframe thead th {\n",
       "        text-align: right;\n",
       "    }\n",
       "</style>\n",
       "<table border=\"1\" class=\"dataframe\">\n",
       "  <thead>\n",
       "    <tr style=\"text-align: right;\">\n",
       "      <th></th>\n",
       "      <th>Book-Title</th>\n",
       "      <th>categories</th>\n",
       "      <th>description</th>\n",
       "    </tr>\n",
       "  </thead>\n",
       "  <tbody>\n",
       "    <tr>\n",
       "      <th>844</th>\n",
       "      <td>The Languages of Tolkien's Middle-Earth</td>\n",
       "      <td>Fiction</td>\n",
       "      <td>Explains the fourteen different languages and ...</td>\n",
       "    </tr>\n",
       "    <tr>\n",
       "      <th>498</th>\n",
       "      <td>The Hobbit: Or There and Back Again</td>\n",
       "      <td>Juvenile Fiction</td>\n",
       "      <td>A newly rejacketed edition of the classic tale...</td>\n",
       "    </tr>\n",
       "    <tr>\n",
       "      <th>876</th>\n",
       "      <td>Island of Bones</td>\n",
       "      <td>Fiction</td>\n",
       "      <td>When the bullet-ridden body of a woman, identi...</td>\n",
       "    </tr>\n",
       "    <tr>\n",
       "      <th>145</th>\n",
       "      <td>The Return of the King (The Lord of the Rings,...</td>\n",
       "      <td>Fantasy fiction</td>\n",
       "      <td>In a sleepy village in the Shire, a young hobb...</td>\n",
       "    </tr>\n",
       "    <tr>\n",
       "      <th>1836</th>\n",
       "      <td>The Return of the Shadow (The History of The L...</td>\n",
       "      <td>Fiction</td>\n",
       "      <td>In this sixth volume of The History of Middle-...</td>\n",
       "    </tr>\n",
       "    <tr>\n",
       "      <th>949</th>\n",
       "      <td>Phoenix: Terrible Swift Sword: Volume Two in t...</td>\n",
       "      <td>History</td>\n",
       "      <td>The second episode in this award-winning trilo...</td>\n",
       "    </tr>\n",
       "    <tr>\n",
       "      <th>28</th>\n",
       "      <td>The Two Towers (The Lord of the Rings, Part 2)</td>\n",
       "      <td>Fiction</td>\n",
       "      <td>Frodo Baggins, Sam, and a small band of compan...</td>\n",
       "    </tr>\n",
       "    <tr>\n",
       "      <th>419</th>\n",
       "      <td>The Two Towers (The Lord of the Rings, Part 2)</td>\n",
       "      <td>Fiction</td>\n",
       "      <td>The standard hardcover edition of the second v...</td>\n",
       "    </tr>\n",
       "    <tr>\n",
       "      <th>671</th>\n",
       "      <td>Swan Song</td>\n",
       "      <td>Fiction</td>\n",
       "      <td>An ancient evil roams the desolate landscape o...</td>\n",
       "    </tr>\n",
       "    <tr>\n",
       "      <th>2173</th>\n",
       "      <td>Fear of Falling: The Inner Life of the Middle ...</td>\n",
       "      <td>Social Science</td>\n",
       "      <td>A brilliant and insightful work that examines ...</td>\n",
       "    </tr>\n",
       "  </tbody>\n",
       "</table>\n",
       "</div>"
      ],
      "text/plain": [
       "                                             Book-Title        categories  \\\n",
       "844             The Languages of Tolkien's Middle-Earth           Fiction   \n",
       "498                 The Hobbit: Or There and Back Again  Juvenile Fiction   \n",
       "876                                     Island of Bones           Fiction   \n",
       "145   The Return of the King (The Lord of the Rings,...   Fantasy fiction   \n",
       "1836  The Return of the Shadow (The History of The L...           Fiction   \n",
       "949   Phoenix: Terrible Swift Sword: Volume Two in t...           History   \n",
       "28       The Two Towers (The Lord of the Rings, Part 2)           Fiction   \n",
       "419      The Two Towers (The Lord of the Rings, Part 2)           Fiction   \n",
       "671                                           Swan Song           Fiction   \n",
       "2173  Fear of Falling: The Inner Life of the Middle ...    Social Science   \n",
       "\n",
       "                                            description  \n",
       "844   Explains the fourteen different languages and ...  \n",
       "498   A newly rejacketed edition of the classic tale...  \n",
       "876   When the bullet-ridden body of a woman, identi...  \n",
       "145   In a sleepy village in the Shire, a young hobb...  \n",
       "1836  In this sixth volume of The History of Middle-...  \n",
       "949   The second episode in this award-winning trilo...  \n",
       "28    Frodo Baggins, Sam, and a small band of compan...  \n",
       "419   The standard hardcover edition of the second v...  \n",
       "671   An ancient evil roams the desolate landscape o...  \n",
       "2173  A brilliant and insightful work that examines ...  "
      ]
     },
     "execution_count": 22,
     "metadata": {},
     "output_type": "execute_result"
    }
   ],
   "source": [
    "get_recommendations('The Lord of the Rings',amount=10)"
   ]
  },
  {
   "cell_type": "code",
   "execution_count": 23,
   "id": "3017457d-da90-4b57-8144-fe3f9acf7e94",
   "metadata": {
    "scrolled": true
   },
   "outputs": [
    {
     "data": {
      "text/html": [
       "<div>\n",
       "<style scoped>\n",
       "    .dataframe tbody tr th:only-of-type {\n",
       "        vertical-align: middle;\n",
       "    }\n",
       "\n",
       "    .dataframe tbody tr th {\n",
       "        vertical-align: top;\n",
       "    }\n",
       "\n",
       "    .dataframe thead th {\n",
       "        text-align: right;\n",
       "    }\n",
       "</style>\n",
       "<table border=\"1\" class=\"dataframe\">\n",
       "  <thead>\n",
       "    <tr style=\"text-align: right;\">\n",
       "      <th></th>\n",
       "      <th>Book-Title</th>\n",
       "      <th>categories</th>\n",
       "      <th>description</th>\n",
       "    </tr>\n",
       "  </thead>\n",
       "  <tbody>\n",
       "    <tr>\n",
       "      <th>350</th>\n",
       "      <td>Suffer the Children</td>\n",
       "      <td>Fiction</td>\n",
       "      <td>100 years after a young girl's murder, childre...</td>\n",
       "    </tr>\n",
       "    <tr>\n",
       "      <th>1840</th>\n",
       "      <td>Life: A User's Manual</td>\n",
       "      <td>Fiction</td>\n",
       "      <td>Represents an exploration of the relationship ...</td>\n",
       "    </tr>\n",
       "    <tr>\n",
       "      <th>2232</th>\n",
       "      <td>The Jungle: The Uncensored Original Edition</td>\n",
       "      <td>Fiction</td>\n",
       "      <td>The horrifying conditions of the Chicago stock...</td>\n",
       "    </tr>\n",
       "    <tr>\n",
       "      <th>634</th>\n",
       "      <td>Human Croquet</td>\n",
       "      <td>Fiction</td>\n",
       "      <td>A dark yet moving exploration of a young girl'...</td>\n",
       "    </tr>\n",
       "    <tr>\n",
       "      <th>1735</th>\n",
       "      <td>The Railway Children (Penguin Popular Classics)</td>\n",
       "      <td>Fiction</td>\n",
       "      <td>When their father is sent away to prison, thre...</td>\n",
       "    </tr>\n",
       "    <tr>\n",
       "      <th>1815</th>\n",
       "      <td>The Waste Land and Other Writings (Modern Libr...</td>\n",
       "      <td>Poetry</td>\n",
       "      <td>First published in 1922, \"The Waste Land\" is T...</td>\n",
       "    </tr>\n",
       "    <tr>\n",
       "      <th>1022</th>\n",
       "      <td>The Diamond Age (Bantam Spectra Book)</td>\n",
       "      <td>Fiction</td>\n",
       "      <td>The story of an engineer who creates a device ...</td>\n",
       "    </tr>\n",
       "    <tr>\n",
       "      <th>1406</th>\n",
       "      <td>The Living Blood</td>\n",
       "      <td>Fiction</td>\n",
       "      <td>Struggling to rebuild her life after the disap...</td>\n",
       "    </tr>\n",
       "    <tr>\n",
       "      <th>870</th>\n",
       "      <td>Savannah Blues</td>\n",
       "      <td>Fiction</td>\n",
       "      <td>Landing a catch like Talmadge Evans III got El...</td>\n",
       "    </tr>\n",
       "    <tr>\n",
       "      <th>345</th>\n",
       "      <td>Thin Air</td>\n",
       "      <td>Fiction</td>\n",
       "      <td>When Lisa St. Claire, the beautiful young brid...</td>\n",
       "    </tr>\n",
       "  </tbody>\n",
       "</table>\n",
       "</div>"
      ],
      "text/plain": [
       "                                             Book-Title categories  \\\n",
       "350                                 Suffer the Children    Fiction   \n",
       "1840                              Life: A User's Manual    Fiction   \n",
       "2232        The Jungle: The Uncensored Original Edition    Fiction   \n",
       "634                                       Human Croquet    Fiction   \n",
       "1735    The Railway Children (Penguin Popular Classics)    Fiction   \n",
       "1815  The Waste Land and Other Writings (Modern Libr...     Poetry   \n",
       "1022              The Diamond Age (Bantam Spectra Book)    Fiction   \n",
       "1406                                   The Living Blood    Fiction   \n",
       "870                                      Savannah Blues    Fiction   \n",
       "345                                            Thin Air    Fiction   \n",
       "\n",
       "                                            description  \n",
       "350   100 years after a young girl's murder, childre...  \n",
       "1840  Represents an exploration of the relationship ...  \n",
       "2232  The horrifying conditions of the Chicago stock...  \n",
       "634   A dark yet moving exploration of a young girl'...  \n",
       "1735  When their father is sent away to prison, thre...  \n",
       "1815  First published in 1922, \"The Waste Land\" is T...  \n",
       "1022  The story of an engineer who creates a device ...  \n",
       "1406  Struggling to rebuild her life after the disap...  \n",
       "870   Landing a catch like Talmadge Evans III got El...  \n",
       "345   When Lisa St. Claire, the beautiful young brid...  "
      ]
     },
     "execution_count": 23,
     "metadata": {},
     "output_type": "execute_result"
    }
   ],
   "source": [
    "get_recommendations('Midnight Voices',10)"
   ]
  },
  {
   "cell_type": "code",
   "execution_count": null,
   "id": "33900ab8-d4e7-4ae5-a63f-f17844130573",
   "metadata": {},
   "outputs": [],
   "source": []
  },
  {
   "cell_type": "code",
   "execution_count": null,
   "id": "f91aed3b-6d12-4162-95a7-0a37560ea20f",
   "metadata": {},
   "outputs": [],
   "source": []
  }
 ],
 "metadata": {
  "kernelspec": {
   "display_name": "Python 3 (ipykernel)",
   "language": "python",
   "name": "python3"
  },
  "language_info": {
   "codemirror_mode": {
    "name": "ipython",
    "version": 3
   },
   "file_extension": ".py",
   "mimetype": "text/x-python",
   "name": "python",
   "nbconvert_exporter": "python",
   "pygments_lexer": "ipython3",
   "version": "3.12.3"
  }
 },
 "nbformat": 4,
 "nbformat_minor": 5
}
