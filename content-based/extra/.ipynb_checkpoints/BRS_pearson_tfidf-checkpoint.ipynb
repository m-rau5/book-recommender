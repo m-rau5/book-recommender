{
 "cells": [
  {
   "cell_type": "code",
   "execution_count": 14,
   "id": "6bfa463a-2bd7-4825-be9c-0ce60115a906",
   "metadata": {},
   "outputs": [],
   "source": [
    "import pandas as pd\n",
    "import numpy as np\n",
    "from sklearn.feature_extraction.text import TfidfVectorizer\n",
    "from sklearn.metrics import pairwise_distances\n",
    "from sklearn.feature_selection import r_regression\n",
    "from scipy.stats import pearsonr"
   ]
  },
  {
   "cell_type": "code",
   "execution_count": 15,
   "id": "2992f4db-940e-4687-ad55-f049ae73bf9a",
   "metadata": {},
   "outputs": [],
   "source": [
    "book_df = pd.read_csv(\"../datasets/clean/filtered_datasets/books_merged.csv\")"
   ]
  },
  {
   "cell_type": "code",
   "execution_count": 16,
   "id": "96c0846d-20af-4b98-97f8-9e3f4c0a7e81",
   "metadata": {
    "scrolled": true
   },
   "outputs": [
    {
     "data": {
      "text/plain": [
       "(2426, 16448)"
      ]
     },
     "execution_count": 16,
     "metadata": {},
     "output_type": "execute_result"
    }
   ],
   "source": [
    "#def a TF-IDF Vectorizer Object. Remove all english stop words such as 'the', 'a' etc.\n",
    "tfidf = TfidfVectorizer(stop_words='english')\n",
    "\n",
    "#Make empty cells into empty strings (should not be a lot of them)\n",
    "book_df['description'] = book_df['description'].fillna('')\n",
    "\n",
    "#Make TF-IDF matrix by fitting and transforming the data\n",
    "tfidf_matrix = tfidf.fit_transform(book_df['description'])\n",
    "tfidf_matrix.shape"
   ]
  },
  {
   "cell_type": "code",
   "execution_count": 21,
   "id": "894b2c22-ac26-48bd-a9f6-7df56d6e4d40",
   "metadata": {},
   "outputs": [],
   "source": [
    "# Calculate Pearson correlation coefficient\n",
    "def pearson_correlation(x, y):\n",
    "    mask = ~(np.isnan(x) | np.isnan(y))\n",
    "    return pearsonr(x[mask], y[mask])[0]\n",
    "\n",
    "# Calculate item-item similarity matrix using Pearson correlation\n",
    "def calculate_similarity_matrix(data_matrix):\n",
    "    return pairwise_distances(data_matrix.T, metric=pearson_correlation)"
   ]
  },
  {
   "cell_type": "code",
   "execution_count": 22,
   "id": "9e8848e6-b367-470e-982b-595125ff816d",
   "metadata": {},
   "outputs": [],
   "source": [
    "# we create an indices matrix so we can search book index by name\n",
    "indices = pd.Series(book_df.index, index=book_df['Book-Title']).drop_duplicates()"
   ]
  },
  {
   "cell_type": "code",
   "execution_count": 25,
   "id": "96b72f83-c4ad-4012-81e8-195e91a43d47",
   "metadata": {
    "scrolled": true
   },
   "outputs": [],
   "source": [
    "# Calculate item-item similarity matrix using Pearson correlation\n",
    "pearson_sim = calculate_similarity_matrix(tfidf_matrix)"
   ]
  },
  {
   "cell_type": "code",
   "execution_count": 26,
   "id": "d41e6542-9d59-4a00-8ac0-5097f578076f",
   "metadata": {},
   "outputs": [],
   "source": [
    "# replaced cosine_sim with pearson_sim in get_recommendations function\n",
    "def get_recommendations(title, amount=10, similarity_matrix=pearson_sim):\n",
    "    idx = indices[title]\n",
    "    sim_scores = list(enumerate(similarity_matrix[idx]))\n",
    "\n",
    "    # sort by most similar and get top 10 similar books\n",
    "    sim_scores = sorted(sim_scores, key=lambda x: x[1], reverse=True)\n",
    "    sim_scores = sim_scores[1:amount+1]\n",
    "    \n",
    "    book_indices = [i[0] for i in sim_scores]\n",
    "    \n",
    "    return book_df['title'].iloc[book_indices]"
   ]
  },
  {
   "cell_type": "code",
   "execution_count": 7,
   "id": "1c8a51ad-6d04-45f2-9c8a-57f1e9f223e4",
   "metadata": {},
   "outputs": [
    {
     "data": {
      "text/plain": [
       "2252           The Handmaid's Tale\n",
       "905     Go Tell it on the Mountain\n",
       "Name: title, dtype: object"
      ]
     },
     "execution_count": 7,
     "metadata": {},
     "output_type": "execute_result"
    }
   ],
   "source": [
    "get_recommendations('Gilead',amount=2)"
   ]
  },
  {
   "cell_type": "code",
   "execution_count": 8,
   "id": "3017457d-da90-4b57-8144-fe3f9acf7e94",
   "metadata": {},
   "outputs": [
    {
     "data": {
      "text/plain": [
       "3640      The Lord of the Rings Complete Visual Companion\n",
       "3620    The Lord of the Rings - The Making of the Movi...\n",
       "1998                           The Poetry of Pablo Neruda\n",
       "3650                     The Lord of the Rings Sketchbook\n",
       "88                       The Art of The Lord of the Rings\n",
       "3571              The Illustrated A Brief History of Time\n",
       "3239              The Cambridge Companion to Schopenhauer\n",
       "3624          The Lord of the Rings - Weapons and Warfare\n",
       "1889    The Hobbit / The Lord of the Rings - The Hobbi...\n",
       "3619    The Lord of the Rings - The Two Towers : Visua...\n",
       "4461           Star Wars - The Complete Visual Dictionary\n",
       "80                                       The Silmarillion\n",
       "3599                         J.R.R. Tolkien - A Biography\n",
       "63      The Lord of the Rings - The Art of The Return ...\n",
       "2117    Tsunamis and Other Natural Disasters - A Nonfi...\n",
       "1407                      Zondervan Handbook to the Bible\n",
       "3602                 The History of the Lord of the Rings\n",
       "4535                                Astronomy For Dummies\n",
       "3531                               Mistress of the Empire\n",
       "3730                            The Man Who Sold The Moon\n",
       "Name: title, dtype: object"
      ]
     },
     "execution_count": 8,
     "metadata": {},
     "output_type": "execute_result"
    }
   ],
   "source": [
    "get_recommendations('The Lord of the Rings, the Return of the King - Visual Companion',20)\n"
   ]
  },
  {
   "cell_type": "code",
   "execution_count": 9,
   "id": "d0e51f56-a503-42c5-9292-9ad50016f0a1",
   "metadata": {},
   "outputs": [
    {
     "data": {
      "text/plain": [
       "1735    The Fellowship of the Ring - Being the First P...\n",
       "6173    The Fellowship of the Ring - Being the First P...\n",
       "79      The Return of the King - Being the Third Part ...\n",
       "1316                 The Hobbit, Or, There and Back Again\n",
       "3590    The Two Towers - Being the Second Part of The ...\n",
       "3603    The Return of the Shadow - The History of The ...\n",
       "1889    The Hobbit / The Lord of the Rings - The Hobbi...\n",
       "3624          The Lord of the Rings - Weapons and Warfare\n",
       "3167                                The Tolkien Companion\n",
       "80                                       The Silmarillion\n",
       "Name: title, dtype: object"
      ]
     },
     "execution_count": 9,
     "metadata": {},
     "output_type": "execute_result"
    }
   ],
   "source": [
    "get_recommendations('The Lord of the Rings',10)"
   ]
  }
 ],
 "metadata": {
  "kernelspec": {
   "display_name": "Python 3 (ipykernel)",
   "language": "python",
   "name": "python3"
  },
  "language_info": {
   "codemirror_mode": {
    "name": "ipython",
    "version": 3
   },
   "file_extension": ".py",
   "mimetype": "text/x-python",
   "name": "python",
   "nbconvert_exporter": "python",
   "pygments_lexer": "ipython3",
   "version": "3.12.3"
  }
 },
 "nbformat": 4,
 "nbformat_minor": 5
}
