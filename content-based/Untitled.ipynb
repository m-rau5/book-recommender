{
 "cells": [
  {
   "cell_type": "code",
   "execution_count": 5,
   "id": "249ccca1-8a5b-4901-9787-87e0cf19555b",
   "metadata": {},
   "outputs": [
    {
     "name": "stdout",
     "output_type": "stream",
     "text": [
      "720                            Stephen Hawking's Universe\n",
      "1702    Tractatus Logico Philosophicus (Routledge Clas...\n",
      "582                 The Collected Stories of Eudora Welty\n",
      "1561     Because It Is Bitter, and Because It Is My Heart\n",
      "1015    George Washington's Rules of Civility and Dece...\n",
      "Name: Book-Title, dtype: object\n",
      "\n",
      "915     Bare Bones: Conversations on Terror With Steph...\n",
      "1627                                       The Value of X\n",
      "486                         Close Range : Wyoming Stories\n",
      "1338                            The Virginia Woolf Reader\n",
      "169     The Gift of the Magi and Other Short Stories (...\n",
      "Name: Book-Title, dtype: object\n"
     ]
    }
   ],
   "source": [
    "from sklearn.feature_extraction.text import CountVectorizer\n",
    "from sklearn.metrics.pairwise import cosine_similarity\n",
    "import pandas as pd\n",
    "\n",
    "# Load the dataset\n",
    "data = pd.read_csv('../datasets/clean/filtered_datasets/books_merged.csv')\n",
    "\n",
    "# Drop rows with missing descriptions\n",
    "data = data.dropna(subset=['description'])\n",
    "\n",
    "# Preprocessing (e.g., lowercase, remove punctuation, etc.)\n",
    "# Implement your preprocessing steps here if needed\n",
    "\n",
    "# Vectorization\n",
    "count_vectorizer = CountVectorizer(stop_words='english')\n",
    "count_matrix = count_vectorizer.fit_transform(data['description'])\n",
    "\n",
    "# Calculate cosine similarity\n",
    "cosine_sim = cosine_similarity(count_matrix, count_matrix)\n",
    "\n",
    "# Function to recommend books based on their similarity\n",
    "def recommend_books(book_title, cosine_sim=cosine_sim, data=data, top_n=5):\n",
    "    idx = data[data['Book-Title'] == book_title].index[0]\n",
    "    sim_scores = list(enumerate(cosine_sim[idx]))\n",
    "    sim_scores = sorted(sim_scores, key=lambda x: x[1], reverse=True)\n",
    "    sim_scores = sim_scores[1:top_n+1]\n",
    "    book_indices = [i[0] for i in sim_scores]\n",
    "    return data['Book-Title'].iloc[book_indices]\n",
    "\n",
    "# Example: Recommend books similar to 'The Testament'\n",
    "recommended_books = recommend_books('The Testament')\n",
    "print(recommended_books)\n",
    "print()\n",
    "recommended_books = recommend_books('The Lord of the Rings')\n",
    "print(recommended_books)"
   ]
  }
 ],
 "metadata": {
  "kernelspec": {
   "display_name": "Python 3 (ipykernel)",
   "language": "python",
   "name": "python3"
  },
  "language_info": {
   "codemirror_mode": {
    "name": "ipython",
    "version": 3
   },
   "file_extension": ".py",
   "mimetype": "text/x-python",
   "name": "python",
   "nbconvert_exporter": "python",
   "pygments_lexer": "ipython3",
   "version": "3.12.3"
  }
 },
 "nbformat": 4,
 "nbformat_minor": 5
}
