{
 "cells": [
  {
   "cell_type": "code",
   "execution_count": 100,
   "id": "91ca525f-7328-4da4-9129-872a024629ae",
   "metadata": {},
   "outputs": [],
   "source": [
    "import pandas as pd\n",
    "from surprise import Dataset, Reader, SVD, accuracy, NMF\n",
    "from surprise.model_selection import KFold, RepeatedKFold, cross_validate, GridSearchCV"
   ]
  },
  {
   "cell_type": "code",
   "execution_count": 36,
   "id": "04129434-099f-4b07-ac8a-cf35d921867c",
   "metadata": {},
   "outputs": [],
   "source": [
    "books_df = pd.read_csv(\"../datasets/clean/filtered_datasets/books_merged.csv\")\n",
    "ratings_df = pd.read_csv(\"../datasets/clean/filtered_datasets/ratings_filtered_1_to_10_unskewed.csv\")"
   ]
  },
  {
   "cell_type": "code",
   "execution_count": 58,
   "id": "97136a12-9c6e-413f-b7d7-ee018052d560",
   "metadata": {},
   "outputs": [],
   "source": [
    "def print_book_titles_by_isbns(isbn_list, books_df):\n",
    "    # Create a set of unique ISBNs to search for\n",
    "    isbn_set = set(isbn_list)\n",
    "    \n",
    "    # Filter the DataFrame to include only rows with ISBNs in the isbn_set\n",
    "    matching_books = books_df[books_df['ISBN'].isin(isbn_set)]\n",
    "    \n",
    "    # Iterate over matching books and print titles\n",
    "    for isbn in isbn_list:\n",
    "        book = matching_books[matching_books['ISBN'] == isbn]\n",
    "        if not book.empty:\n",
    "            title = book.iloc[0]['Book-Title']  # Get the book title\n",
    "            print(f\"ISBN: {isbn} - Title: {title}\")\n",
    "        else:\n",
    "            print(f\"ISBN: {isbn} - Title not found\")\n"
   ]
  },
  {
   "cell_type": "code",
   "execution_count": 66,
   "id": "156ccb15-88a4-4004-bcae-c0a61aaa625d",
   "metadata": {},
   "outputs": [],
   "source": [
    "# Collaborative Filtering\n",
    "svd = SVD()\n",
    "reader = Reader(rating_scale=(1,10))\n",
    "data = Dataset.load_from_df(ratings_df[['User-ID', \n",
    "                                  'ISBN', \n",
    "                                  'Book-Rating']], reader)"
   ]
  },
  {
   "cell_type": "code",
   "execution_count": 30,
   "id": "0ff51a24-78df-48e2-a79f-dbf7e1afa166",
   "metadata": {},
   "outputs": [],
   "source": [
    "trainset = data.build_full_trainset()"
   ]
  },
  {
   "cell_type": "code",
   "execution_count": 79,
   "id": "596131e3-139e-4849-a8f7-a70774e510d5",
   "metadata": {},
   "outputs": [
    {
     "data": {
      "text/plain": [
       "<surprise.prediction_algorithms.matrix_factorization.SVD at 0x1681ab5c2f0>"
      ]
     },
     "execution_count": 79,
     "metadata": {},
     "output_type": "execute_result"
    }
   ],
   "source": [
    "svd.fit(trainset)"
   ]
  },
  {
   "cell_type": "code",
   "execution_count": 122,
   "id": "ee02463b-95da-4d15-957a-ce31238d4032",
   "metadata": {},
   "outputs": [],
   "source": [
    "def get_collaborative_filtering_recommendations(user_id, top_n):\n",
    "    testset = trainset.build_anti_testset()\n",
    "    testset = filter(lambda x: x[0] == user_id, testset)\n",
    "    predictions = svd.test(testset)\n",
    "    predictions.sort(key=lambda x: x.est, reverse=True)\n",
    "    recommendations = [prediction.iid for prediction in predictions[:top_n]]\n",
    "    return recommendations"
   ]
  },
  {
   "cell_type": "code",
   "execution_count": 123,
   "id": "bed21181-a64e-420b-b8c9-fd4a9ac1037e",
   "metadata": {},
   "outputs": [
    {
     "name": "stdout",
     "output_type": "stream",
     "text": [
      "ISBN: 0345339738 - Title: The Return of the King (The Lord of the Rings, Part 3)\n",
      "ISBN: 0439064864 - Title: Harry Potter and the Chamber of Secrets (Book 2)\n",
      "ISBN: 0836204387 - Title: The Calvin and Hobbes Tenth Anniversary Book\n",
      "ISBN: 0345339711 - Title: The Two Towers (The Lord of the Rings, Part 2)\n",
      "ISBN: 0836218051 - Title: The Essential Calvin and Hobbes\n",
      "ISBN: 0394800168 - Title: Green Eggs and Ham (I Can Read It All by Myself Beginner Books)\n",
      "ISBN: 0743437810 - Title: The Vanished Man : A Lincoln Rhyme Novel (Lincoln Rhyme Novels (Paperback))\n",
      "ISBN: 0836221362 - Title: It's A Magical World: A Calvin and Hobbes Collection\n",
      "ISBN: 0380813815 - Title: Lamb : The Gospel According to Biff, Christ's Childhood Pal\n",
      "ISBN: 1563893339 - Title: Death : The Time of Your Life (Death)\n"
     ]
    }
   ],
   "source": [
    "recommendations = get_collaborative_filtering_recommendations(8801,10)\n",
    "print_book_titles_by_isbns(recommendations,books_df)"
   ]
  },
  {
   "cell_type": "code",
   "execution_count": null,
   "id": "e04b2b4f-856f-449d-8fba-c6565b3c83df",
   "metadata": {},
   "outputs": [],
   "source": []
  }
 ],
 "metadata": {
  "kernelspec": {
   "display_name": "Python 3 (ipykernel)",
   "language": "python",
   "name": "python3"
  },
  "language_info": {
   "codemirror_mode": {
    "name": "ipython",
    "version": 3
   },
   "file_extension": ".py",
   "mimetype": "text/x-python",
   "name": "python",
   "nbconvert_exporter": "python",
   "pygments_lexer": "ipython3",
   "version": "3.12.3"
  }
 },
 "nbformat": 4,
 "nbformat_minor": 5
}
