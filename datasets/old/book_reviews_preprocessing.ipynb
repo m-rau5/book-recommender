{
 "cells": [
  {
   "cell_type": "code",
   "execution_count": 2,
   "id": "23367d26-3942-492b-855a-1e428e1d2460",
   "metadata": {},
   "outputs": [],
   "source": [
    "import pandas as pd"
   ]
  },
  {
   "cell_type": "code",
   "execution_count": 11,
   "id": "757f879c-effb-431e-b4c0-9c6eee7a39c2",
   "metadata": {},
   "outputs": [
    {
     "data": {
      "text/plain": [
       "'C:\\\\Users\\\\Raul\\\\Documents\\\\python prj\\\\theisis\\\\book-recommender\\\\content-based\\\\datasets'"
      ]
     },
     "execution_count": 11,
     "metadata": {},
     "output_type": "execute_result"
    }
   ],
   "source": [
    "books_df = pd.read_csv(\"./abdallah_books_with_descriptions.csv\")\n",
    "ratings_df = pd.read_csv(\"./book_ratings.csv\")\n",
    "book_list_df = pd.read_csv(\"./books.csv\")\n",
    "read_df = pd.read_csv(\"./to_read.csv\")"
   ]
  },
  {
   "cell_type": "code",
   "execution_count": 16,
   "id": "eb7d358d-306a-4f64-9d2f-04e66e10fc79",
   "metadata": {},
   "outputs": [
    {
     "name": "stdout",
     "output_type": "stream",
     "text": [
      "Filtered ratings saved to 'filtered_ratings.csv'\n"
     ]
    }
   ],
   "source": [
    "import pandas as pd\n",
    "\n",
    "# Get the ISBNs present in the books dataframe\n",
    "valid_isbns = books_df['isbn10'].unique()\n",
    "\n",
    "# Filter the ratings dataframe to keep only the ratings with valid ISBNs\n",
    "filtered_ratings_df = ratings_df[ratings_df['ISBN'].isin(valid_isbns)]\n",
    "\n",
    "# Save the filtered ratings dataframe to a new CSV file\n",
    "filtered_ratings_df.to_csv('filtered_ratings.csv', index=False)\n",
    "\n",
    "print(\"Filtered ratings saved to 'filtered_ratings.csv'\")"
   ]
  },
  {
   "cell_type": "code",
   "execution_count": 18,
   "id": "2340b566-9a1d-45ac-acf3-1a3f867fe224",
   "metadata": {},
   "outputs": [
    {
     "name": "stdout",
     "output_type": "stream",
     "text": [
      "Filtered books saved to 'filtered_books.csv'\n"
     ]
    }
   ],
   "source": [
    "import pandas as pd\n",
    "\n",
    "filtered_ratings_df = pd.read_csv('filtered_ratings.csv')\n",
    "\n",
    "# Get the ISBNs present in the filtered ratings dataframe\n",
    "valid_isbns = filtered_ratings_df['ISBN'].unique()\n",
    "\n",
    "# Filter the books dataframe to keep only the books with valid ISBNs\n",
    "filtered_books_df = books_df[books_df['isbn10'].isin(valid_isbns)]\n",
    "\n",
    "# Save the filtered books dataframe to a new CSV file\n",
    "filtered_books_df.to_csv('filtered_books.csv', index=False)\n",
    "\n",
    "print(\"Filtered books saved to 'filtered_books.csv'\")"
   ]
  },
  {
   "cell_type": "code",
   "execution_count": 18,
   "id": "80326c24-9b1a-4d4d-a531-4992414e145c",
   "metadata": {},
   "outputs": [],
   "source": [
    "# get books with reviews's isbn\n",
    "unique_book_ids = read_df['book_id'].unique()\n",
    "merged_df = pd.merge(book_list_df, read_df, on='book_id', how='inner')\n",
    "unique_isbns = merged_df['isbn'].unique()\n",
    "\n",
    "# Filter by exact isbn match AND leading 0 removed\n",
    "exact_match_books_df = books_df[books_df['isbn10'].isin(unique_isbns)]\n",
    "\n",
    "books_df['isbn10_stripped'] = books_df['isbn10'].astype(str).str[1:]\n",
    "leading_zero_removed_books_df = books_df[books_df['isbn10_stripped'].isin(unique_isbns)]\n",
    "\n",
    "filtered_books_df = pd.concat([exact_match_books_df, leading_zero_removed_books_df])\n",
    "\n",
    "# Filter entries from books_df with same title as the ones in book_list_df\n",
    "same_title_books_df = books_df[books_df['title'].isin(book_list_df['original_title'])]\n",
    "\n",
    "filtered_books_df = pd.concat([filtered_books_df, same_title_books_df])\n",
    "filtered_books_df = filtered_books_df.drop(columns=['isbn10_stripped'])\n",
    "\n",
    "# Save the filtered books to a new dataframe or CSV file\n",
    "filtered_books_df.to_csv('books_with_reviews.csv', index=False)"
   ]
  },
  {
   "cell_type": "code",
   "execution_count": null,
   "id": "c6e70e84-758b-4d36-8e7b-578c1e032ad0",
   "metadata": {},
   "outputs": [],
   "source": []
  }
 ],
 "metadata": {
  "kernelspec": {
   "display_name": "Python 3 (ipykernel)",
   "language": "python",
   "name": "python3"
  },
  "language_info": {
   "codemirror_mode": {
    "name": "ipython",
    "version": 3
   },
   "file_extension": ".py",
   "mimetype": "text/x-python",
   "name": "python",
   "nbconvert_exporter": "python",
   "pygments_lexer": "ipython3",
   "version": "3.12.3"
  }
 },
 "nbformat": 4,
 "nbformat_minor": 5
}
