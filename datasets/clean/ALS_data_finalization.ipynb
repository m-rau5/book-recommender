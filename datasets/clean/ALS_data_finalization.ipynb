{
 "cells": [
  {
   "cell_type": "markdown",
   "id": "b232af35-b52c-4b43-9a74-5081afe252dc",
   "metadata": {},
   "source": [
    "# Setup"
   ]
  },
  {
   "cell_type": "code",
   "execution_count": 1,
   "id": "195b224d-62dd-424a-ba50-1e2fa1e67a7e",
   "metadata": {},
   "outputs": [],
   "source": [
    "import pandas as pd"
   ]
  },
  {
   "cell_type": "code",
   "execution_count": 2,
   "id": "0ad8b0f4-c553-4f0b-8276-38a0c82d08af",
   "metadata": {},
   "outputs": [],
   "source": [
    "books_df = pd.read_csv(\"./filtered_datasets/books_merged_filtered.csv\")\n",
    "ratings_df = pd.read_csv(\"./filtered_datasets/ratings_1to10_over3.csv\",low_memory=False)"
   ]
  },
  {
   "cell_type": "markdown",
   "id": "0501a7d0-a965-4791-82cb-25699c5c013c",
   "metadata": {},
   "source": [
    "## Data exploration"
   ]
  },
  {
   "cell_type": "markdown",
   "id": "d5fac5ef-5aed-4eb8-b6a3-9772b460c53c",
   "metadata": {},
   "source": [
    "We can see we have a dataset with users' reviews on books"
   ]
  },
  {
   "cell_type": "code",
   "execution_count": 3,
   "id": "5ad1cda0-f492-4996-bee1-6411afe212ea",
   "metadata": {},
   "outputs": [
    {
     "data": {
      "text/html": [
       "<div>\n",
       "<style scoped>\n",
       "    .dataframe tbody tr th:only-of-type {\n",
       "        vertical-align: middle;\n",
       "    }\n",
       "\n",
       "    .dataframe tbody tr th {\n",
       "        vertical-align: top;\n",
       "    }\n",
       "\n",
       "    .dataframe thead th {\n",
       "        text-align: right;\n",
       "    }\n",
       "</style>\n",
       "<table border=\"1\" class=\"dataframe\">\n",
       "  <thead>\n",
       "    <tr style=\"text-align: right;\">\n",
       "      <th></th>\n",
       "      <th>User-ID</th>\n",
       "      <th>ISBN</th>\n",
       "      <th>Book-Rating</th>\n",
       "    </tr>\n",
       "  </thead>\n",
       "  <tbody>\n",
       "    <tr>\n",
       "      <th>0</th>\n",
       "      <td>277427</td>\n",
       "      <td>0375751513</td>\n",
       "      <td>9</td>\n",
       "    </tr>\n",
       "    <tr>\n",
       "      <th>1</th>\n",
       "      <td>277427</td>\n",
       "      <td>0440236738</td>\n",
       "      <td>9</td>\n",
       "    </tr>\n",
       "    <tr>\n",
       "      <th>2</th>\n",
       "      <td>277427</td>\n",
       "      <td>0441627404</td>\n",
       "      <td>10</td>\n",
       "    </tr>\n",
       "    <tr>\n",
       "      <th>3</th>\n",
       "      <td>277427</td>\n",
       "      <td>0446608890</td>\n",
       "      <td>10</td>\n",
       "    </tr>\n",
       "    <tr>\n",
       "      <th>4</th>\n",
       "      <td>277427</td>\n",
       "      <td>0679731148</td>\n",
       "      <td>9</td>\n",
       "    </tr>\n",
       "    <tr>\n",
       "      <th>...</th>\n",
       "      <td>...</td>\n",
       "      <td>...</td>\n",
       "      <td>...</td>\n",
       "    </tr>\n",
       "    <tr>\n",
       "      <th>7399</th>\n",
       "      <td>276463</td>\n",
       "      <td>1400031362</td>\n",
       "      <td>8</td>\n",
       "    </tr>\n",
       "    <tr>\n",
       "      <th>7400</th>\n",
       "      <td>276680</td>\n",
       "      <td>0312422156</td>\n",
       "      <td>10</td>\n",
       "    </tr>\n",
       "    <tr>\n",
       "      <th>7401</th>\n",
       "      <td>276680</td>\n",
       "      <td>0345436911</td>\n",
       "      <td>8</td>\n",
       "    </tr>\n",
       "    <tr>\n",
       "      <th>7402</th>\n",
       "      <td>276680</td>\n",
       "      <td>0375727132</td>\n",
       "      <td>8</td>\n",
       "    </tr>\n",
       "    <tr>\n",
       "      <th>7403</th>\n",
       "      <td>276680</td>\n",
       "      <td>0425185508</td>\n",
       "      <td>6</td>\n",
       "    </tr>\n",
       "  </tbody>\n",
       "</table>\n",
       "<p>7404 rows × 3 columns</p>\n",
       "</div>"
      ],
      "text/plain": [
       "      User-ID        ISBN  Book-Rating\n",
       "0      277427  0375751513            9\n",
       "1      277427  0440236738            9\n",
       "2      277427  0441627404           10\n",
       "3      277427  0446608890           10\n",
       "4      277427  0679731148            9\n",
       "...       ...         ...          ...\n",
       "7399   276463  1400031362            8\n",
       "7400   276680  0312422156           10\n",
       "7401   276680  0345436911            8\n",
       "7402   276680  0375727132            8\n",
       "7403   276680  0425185508            6\n",
       "\n",
       "[7404 rows x 3 columns]"
      ]
     },
     "execution_count": 3,
     "metadata": {},
     "output_type": "execute_result"
    }
   ],
   "source": [
    "ratings_df"
   ]
  },
  {
   "cell_type": "code",
   "execution_count": 4,
   "id": "0e3503cd-56d0-44fd-afdd-e06d2ce847a0",
   "metadata": {},
   "outputs": [
    {
     "data": {
      "text/html": [
       "<div>\n",
       "<style scoped>\n",
       "    .dataframe tbody tr th:only-of-type {\n",
       "        vertical-align: middle;\n",
       "    }\n",
       "\n",
       "    .dataframe tbody tr th {\n",
       "        vertical-align: top;\n",
       "    }\n",
       "\n",
       "    .dataframe thead th {\n",
       "        text-align: right;\n",
       "    }\n",
       "</style>\n",
       "<table border=\"1\" class=\"dataframe\">\n",
       "  <thead>\n",
       "    <tr style=\"text-align: right;\">\n",
       "      <th></th>\n",
       "      <th>ISBN</th>\n",
       "      <th>Book-Title</th>\n",
       "      <th>Book-Author</th>\n",
       "      <th>Publisher</th>\n",
       "      <th>Year-Of-Publication</th>\n",
       "      <th>categories</th>\n",
       "      <th>description</th>\n",
       "      <th>Image-URL-S</th>\n",
       "      <th>Image-URL-M</th>\n",
       "      <th>Image-URL-L</th>\n",
       "    </tr>\n",
       "  </thead>\n",
       "  <tbody>\n",
       "    <tr>\n",
       "      <th>0</th>\n",
       "      <td>0440234743</td>\n",
       "      <td>The Testament</td>\n",
       "      <td>John Grisham</td>\n",
       "      <td>Dell</td>\n",
       "      <td>1999</td>\n",
       "      <td>Fiction</td>\n",
       "      <td>A suicidal billionaire, a burnt-out Washington...</td>\n",
       "      <td>http://images.amazon.com/images/P/0440234743.0...</td>\n",
       "      <td>http://images.amazon.com/images/P/0440234743.0...</td>\n",
       "      <td>http://images.amazon.com/images/P/0440234743.0...</td>\n",
       "    </tr>\n",
       "    <tr>\n",
       "      <th>1</th>\n",
       "      <td>0553582909</td>\n",
       "      <td>Icebound</td>\n",
       "      <td>Dean R. Koontz</td>\n",
       "      <td>Bantam Books</td>\n",
       "      <td>2000</td>\n",
       "      <td>Fiction</td>\n",
       "      <td>A secret Arctic experiment turns into a frozen...</td>\n",
       "      <td>http://images.amazon.com/images/P/0553582909.0...</td>\n",
       "      <td>http://images.amazon.com/images/P/0553582909.0...</td>\n",
       "      <td>http://images.amazon.com/images/P/0553582909.0...</td>\n",
       "    </tr>\n",
       "  </tbody>\n",
       "</table>\n",
       "</div>"
      ],
      "text/plain": [
       "         ISBN     Book-Title     Book-Author     Publisher  \\\n",
       "0  0440234743  The Testament    John Grisham          Dell   \n",
       "1  0553582909       Icebound  Dean R. Koontz  Bantam Books   \n",
       "\n",
       "   Year-Of-Publication categories  \\\n",
       "0                 1999    Fiction   \n",
       "1                 2000    Fiction   \n",
       "\n",
       "                                         description  \\\n",
       "0  A suicidal billionaire, a burnt-out Washington...   \n",
       "1  A secret Arctic experiment turns into a frozen...   \n",
       "\n",
       "                                         Image-URL-S  \\\n",
       "0  http://images.amazon.com/images/P/0440234743.0...   \n",
       "1  http://images.amazon.com/images/P/0553582909.0...   \n",
       "\n",
       "                                         Image-URL-M  \\\n",
       "0  http://images.amazon.com/images/P/0440234743.0...   \n",
       "1  http://images.amazon.com/images/P/0553582909.0...   \n",
       "\n",
       "                                         Image-URL-L  \n",
       "0  http://images.amazon.com/images/P/0440234743.0...  \n",
       "1  http://images.amazon.com/images/P/0553582909.0...  "
      ]
     },
     "execution_count": 4,
     "metadata": {},
     "output_type": "execute_result"
    }
   ],
   "source": [
    "books_df.head(2)"
   ]
  },
  {
   "cell_type": "markdown",
   "id": "5ba7d1f4-d4f3-4c8a-8f74-f0eca842e0ec",
   "metadata": {},
   "source": [
    "---\n",
    "\n",
    "## Fixing the format"
   ]
  },
  {
   "cell_type": "markdown",
   "id": "dbd3823d-db83-4f9c-87df-6c278827235a",
   "metadata": {},
   "source": [
    "__The problem__: Als requires identifiers to be integers (ISBN is not an int).\n",
    "\n",
    "__Solution__: Create book-id's to corelate the books"
   ]
  },
  {
   "cell_type": "code",
   "execution_count": 5,
   "id": "2ac6ed63-8b1d-4aa5-8099-d330893a0b44",
   "metadata": {},
   "outputs": [
    {
     "data": {
      "text/html": [
       "<div>\n",
       "<style scoped>\n",
       "    .dataframe tbody tr th:only-of-type {\n",
       "        vertical-align: middle;\n",
       "    }\n",
       "\n",
       "    .dataframe tbody tr th {\n",
       "        vertical-align: top;\n",
       "    }\n",
       "\n",
       "    .dataframe thead th {\n",
       "        text-align: right;\n",
       "    }\n",
       "</style>\n",
       "<table border=\"1\" class=\"dataframe\">\n",
       "  <thead>\n",
       "    <tr style=\"text-align: right;\">\n",
       "      <th></th>\n",
       "      <th>Book-Id</th>\n",
       "      <th>ISBN</th>\n",
       "      <th>Book-Title</th>\n",
       "      <th>Book-Author</th>\n",
       "      <th>Publisher</th>\n",
       "      <th>Year-Of-Publication</th>\n",
       "      <th>categories</th>\n",
       "      <th>description</th>\n",
       "      <th>Image-URL-S</th>\n",
       "      <th>Image-URL-M</th>\n",
       "      <th>Image-URL-L</th>\n",
       "    </tr>\n",
       "  </thead>\n",
       "  <tbody>\n",
       "    <tr>\n",
       "      <th>0</th>\n",
       "      <td>0</td>\n",
       "      <td>0440234743</td>\n",
       "      <td>The Testament</td>\n",
       "      <td>John Grisham</td>\n",
       "      <td>Dell</td>\n",
       "      <td>1999</td>\n",
       "      <td>Fiction</td>\n",
       "      <td>A suicidal billionaire, a burnt-out Washington...</td>\n",
       "      <td>http://images.amazon.com/images/P/0440234743.0...</td>\n",
       "      <td>http://images.amazon.com/images/P/0440234743.0...</td>\n",
       "      <td>http://images.amazon.com/images/P/0440234743.0...</td>\n",
       "    </tr>\n",
       "  </tbody>\n",
       "</table>\n",
       "</div>"
      ],
      "text/plain": [
       "   Book-Id        ISBN     Book-Title   Book-Author Publisher  \\\n",
       "0        0  0440234743  The Testament  John Grisham      Dell   \n",
       "\n",
       "   Year-Of-Publication categories  \\\n",
       "0                 1999    Fiction   \n",
       "\n",
       "                                         description  \\\n",
       "0  A suicidal billionaire, a burnt-out Washington...   \n",
       "\n",
       "                                         Image-URL-S  \\\n",
       "0  http://images.amazon.com/images/P/0440234743.0...   \n",
       "\n",
       "                                         Image-URL-M  \\\n",
       "0  http://images.amazon.com/images/P/0440234743.0...   \n",
       "\n",
       "                                         Image-URL-L  \n",
       "0  http://images.amazon.com/images/P/0440234743.0...  "
      ]
     },
     "execution_count": 5,
     "metadata": {},
     "output_type": "execute_result"
    }
   ],
   "source": [
    "# Adding Book-Id column\n",
    "books_df['Book-Id'] = range(0, len(books_df))\n",
    "\n",
    "# Reorder columns to place Book-Id before ISBN\n",
    "cols = list(books_df.columns)\n",
    "cols.insert(cols.index('ISBN'), cols.pop(cols.index('Book-Id')))\n",
    "books_with_id_df = books_df[cols]\n",
    "\n",
    "books_with_id_df.head(1)"
   ]
  },
  {
   "cell_type": "markdown",
   "id": "0349cda6-1eb8-46e0-a673-9a8c93b70c9d",
   "metadata": {},
   "source": [
    "Now we map the book id's to isbn"
   ]
  },
  {
   "cell_type": "code",
   "execution_count": 6,
   "id": "41f35e66-f48b-4fb5-939e-afc685b00f6e",
   "metadata": {},
   "outputs": [
    {
     "name": "stdout",
     "output_type": "stream",
     "text": [
      "      User-ID        ISBN  Book-Rating  Book-Id\n",
      "0      277427  0375751513            9        9\n",
      "1      277427  0440236738            9      278\n",
      "2      277427  0441627404           10      202\n",
      "3      277427  0446608890           10      159\n",
      "4      277427  0679731148            9       63\n",
      "...       ...         ...          ...      ...\n",
      "7399   276463  1400031362            8      246\n",
      "7400   276680  0312422156           10       35\n",
      "7401   276680  0345436911            8       60\n",
      "7402   276680  0375727132            8       81\n",
      "7403   276680  0425185508            6      298\n",
      "\n",
      "[7404 rows x 4 columns]\n"
     ]
    }
   ],
   "source": [
    "# Create a mapping dictionary from ISBN to ID\n",
    "isbn_to_id_map = dict(zip(books_with_id_df['ISBN'], books_with_id_df['Book-Id']))\n",
    "\n",
    "# Add 'book_id' column to ratings_df by mapping ISBN to ID\n",
    "ratings_df['Book-Id'] = ratings_df['ISBN'].map(isbn_to_id_map)\n",
    "\n",
    "# Print updated ratings_df with book_id field\n",
    "print(ratings_df)"
   ]
  },
  {
   "cell_type": "markdown",
   "id": "2ce92cbe-dee5-4d9e-8bd8-8b11ec611a10",
   "metadata": {},
   "source": [
    "Finnaly, replace the ISBN with the book id and we have the correctly formatted reviews"
   ]
  },
  {
   "cell_type": "code",
   "execution_count": 7,
   "id": "537de876-c578-43a4-bc32-29a1b7756b81",
   "metadata": {},
   "outputs": [],
   "source": [
    "ratings_df.drop(columns=['ISBN'], inplace=True)"
   ]
  },
  {
   "cell_type": "code",
   "execution_count": 8,
   "id": "737be0c6-b009-4285-bf92-5d9607ef9a09",
   "metadata": {},
   "outputs": [
    {
     "data": {
      "text/html": [
       "<div>\n",
       "<style scoped>\n",
       "    .dataframe tbody tr th:only-of-type {\n",
       "        vertical-align: middle;\n",
       "    }\n",
       "\n",
       "    .dataframe tbody tr th {\n",
       "        vertical-align: top;\n",
       "    }\n",
       "\n",
       "    .dataframe thead th {\n",
       "        text-align: right;\n",
       "    }\n",
       "</style>\n",
       "<table border=\"1\" class=\"dataframe\">\n",
       "  <thead>\n",
       "    <tr style=\"text-align: right;\">\n",
       "      <th></th>\n",
       "      <th>User-ID</th>\n",
       "      <th>Book-Rating</th>\n",
       "      <th>Book-Id</th>\n",
       "    </tr>\n",
       "  </thead>\n",
       "  <tbody>\n",
       "    <tr>\n",
       "      <th>0</th>\n",
       "      <td>277427</td>\n",
       "      <td>9</td>\n",
       "      <td>9</td>\n",
       "    </tr>\n",
       "    <tr>\n",
       "      <th>1</th>\n",
       "      <td>277427</td>\n",
       "      <td>9</td>\n",
       "      <td>278</td>\n",
       "    </tr>\n",
       "    <tr>\n",
       "      <th>2</th>\n",
       "      <td>277427</td>\n",
       "      <td>10</td>\n",
       "      <td>202</td>\n",
       "    </tr>\n",
       "    <tr>\n",
       "      <th>3</th>\n",
       "      <td>277427</td>\n",
       "      <td>10</td>\n",
       "      <td>159</td>\n",
       "    </tr>\n",
       "    <tr>\n",
       "      <th>4</th>\n",
       "      <td>277427</td>\n",
       "      <td>9</td>\n",
       "      <td>63</td>\n",
       "    </tr>\n",
       "    <tr>\n",
       "      <th>...</th>\n",
       "      <td>...</td>\n",
       "      <td>...</td>\n",
       "      <td>...</td>\n",
       "    </tr>\n",
       "    <tr>\n",
       "      <th>7399</th>\n",
       "      <td>276463</td>\n",
       "      <td>8</td>\n",
       "      <td>246</td>\n",
       "    </tr>\n",
       "    <tr>\n",
       "      <th>7400</th>\n",
       "      <td>276680</td>\n",
       "      <td>10</td>\n",
       "      <td>35</td>\n",
       "    </tr>\n",
       "    <tr>\n",
       "      <th>7401</th>\n",
       "      <td>276680</td>\n",
       "      <td>8</td>\n",
       "      <td>60</td>\n",
       "    </tr>\n",
       "    <tr>\n",
       "      <th>7402</th>\n",
       "      <td>276680</td>\n",
       "      <td>8</td>\n",
       "      <td>81</td>\n",
       "    </tr>\n",
       "    <tr>\n",
       "      <th>7403</th>\n",
       "      <td>276680</td>\n",
       "      <td>6</td>\n",
       "      <td>298</td>\n",
       "    </tr>\n",
       "  </tbody>\n",
       "</table>\n",
       "<p>7404 rows × 3 columns</p>\n",
       "</div>"
      ],
      "text/plain": [
       "      User-ID  Book-Rating  Book-Id\n",
       "0      277427            9        9\n",
       "1      277427            9      278\n",
       "2      277427           10      202\n",
       "3      277427           10      159\n",
       "4      277427            9       63\n",
       "...       ...          ...      ...\n",
       "7399   276463            8      246\n",
       "7400   276680           10       35\n",
       "7401   276680            8       60\n",
       "7402   276680            8       81\n",
       "7403   276680            6      298\n",
       "\n",
       "[7404 rows x 3 columns]"
      ]
     },
     "execution_count": 8,
     "metadata": {},
     "output_type": "execute_result"
    }
   ],
   "source": [
    "ratings_df"
   ]
  },
  {
   "cell_type": "code",
   "execution_count": 9,
   "id": "0658f107-09e6-4e83-b720-0073f52146b2",
   "metadata": {},
   "outputs": [],
   "source": [
    "ratings_df.to_csv(\"./filtered_datasets/Final/final_ratings.csv\",index=False)"
   ]
  },
  {
   "cell_type": "code",
   "execution_count": 10,
   "id": "59da15ba-75fa-4858-b9fc-405c06a6ff3b",
   "metadata": {},
   "outputs": [],
   "source": [
    "books_with_id_df.to_csv(\"filtered_datasets/Final/final_books.csv\",index=False)"
   ]
  }
 ],
 "metadata": {
  "kernelspec": {
   "display_name": "Python (BRS-spark)",
   "language": "python",
   "name": "brs-spark"
  },
  "language_info": {
   "codemirror_mode": {
    "name": "ipython",
    "version": 3
   },
   "file_extension": ".py",
   "mimetype": "text/x-python",
   "name": "python",
   "nbconvert_exporter": "python",
   "pygments_lexer": "ipython3",
   "version": "3.11.4"
  }
 },
 "nbformat": 4,
 "nbformat_minor": 5
}
