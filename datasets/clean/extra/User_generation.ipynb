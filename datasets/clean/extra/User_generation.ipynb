{
 "cells": [
  {
   "cell_type": "code",
   "execution_count": 122,
   "id": "33c85348-c65d-4745-93b0-e07e7daacf3d",
   "metadata": {},
   "outputs": [],
   "source": [
    "import pandas as pd\n",
    "import numpy as np"
   ]
  },
  {
   "cell_type": "code",
   "execution_count": 123,
   "id": "d779c842-a301-4d77-b443-08de5d21f161",
   "metadata": {},
   "outputs": [],
   "source": [
    "reviews_df = pd.read_csv(\"./filtered_datasets/final_ratings_collab.csv\")\n",
    "books_df = pd.read_csv(\"./filtered_datasets/final_books_collab.csv\")"
   ]
  },
  {
   "cell_type": "code",
   "execution_count": 124,
   "id": "1ec1afee-2fb4-45ee-b077-d72b8fac0e3a",
   "metadata": {},
   "outputs": [
    {
     "data": {
      "text/html": [
       "<div>\n",
       "<style scoped>\n",
       "    .dataframe tbody tr th:only-of-type {\n",
       "        vertical-align: middle;\n",
       "    }\n",
       "\n",
       "    .dataframe tbody tr th {\n",
       "        vertical-align: top;\n",
       "    }\n",
       "\n",
       "    .dataframe thead th {\n",
       "        text-align: right;\n",
       "    }\n",
       "</style>\n",
       "<table border=\"1\" class=\"dataframe\">\n",
       "  <thead>\n",
       "    <tr style=\"text-align: right;\">\n",
       "      <th></th>\n",
       "      <th>User-ID</th>\n",
       "      <th>Book-Rating</th>\n",
       "      <th>Book-Id</th>\n",
       "    </tr>\n",
       "  </thead>\n",
       "  <tbody>\n",
       "    <tr>\n",
       "      <th>0</th>\n",
       "      <td>277427</td>\n",
       "      <td>9</td>\n",
       "      <td>9</td>\n",
       "    </tr>\n",
       "  </tbody>\n",
       "</table>\n",
       "</div>"
      ],
      "text/plain": [
       "   User-ID  Book-Rating  Book-Id\n",
       "0   277427            9        9"
      ]
     },
     "execution_count": 124,
     "metadata": {},
     "output_type": "execute_result"
    }
   ],
   "source": [
    "reviews_df.head(1)"
   ]
  },
  {
   "cell_type": "code",
   "execution_count": 125,
   "id": "3a60506b-a123-4b88-877d-815791880034",
   "metadata": {},
   "outputs": [
    {
     "data": {
      "text/html": [
       "<div>\n",
       "<style scoped>\n",
       "    .dataframe tbody tr th:only-of-type {\n",
       "        vertical-align: middle;\n",
       "    }\n",
       "\n",
       "    .dataframe tbody tr th {\n",
       "        vertical-align: top;\n",
       "    }\n",
       "\n",
       "    .dataframe thead th {\n",
       "        text-align: right;\n",
       "    }\n",
       "</style>\n",
       "<table border=\"1\" class=\"dataframe\">\n",
       "  <thead>\n",
       "    <tr style=\"text-align: right;\">\n",
       "      <th></th>\n",
       "      <th>Book-Id</th>\n",
       "      <th>ISBN</th>\n",
       "      <th>Book-Title</th>\n",
       "      <th>Book-Author</th>\n",
       "      <th>Publisher</th>\n",
       "      <th>Year-Of-Publication</th>\n",
       "      <th>categories</th>\n",
       "      <th>description</th>\n",
       "      <th>Image-URL-S</th>\n",
       "      <th>Image-URL-M</th>\n",
       "      <th>Image-URL-L</th>\n",
       "    </tr>\n",
       "  </thead>\n",
       "  <tbody>\n",
       "    <tr>\n",
       "      <th>0</th>\n",
       "      <td>0</td>\n",
       "      <td>0440234743</td>\n",
       "      <td>The Testament</td>\n",
       "      <td>John Grisham</td>\n",
       "      <td>Dell</td>\n",
       "      <td>1999</td>\n",
       "      <td>Fiction</td>\n",
       "      <td>A suicidal billionaire, a burnt-out Washington...</td>\n",
       "      <td>http://images.amazon.com/images/P/0440234743.0...</td>\n",
       "      <td>http://images.amazon.com/images/P/0440234743.0...</td>\n",
       "      <td>http://images.amazon.com/images/P/0440234743.0...</td>\n",
       "    </tr>\n",
       "  </tbody>\n",
       "</table>\n",
       "</div>"
      ],
      "text/plain": [
       "   Book-Id        ISBN     Book-Title   Book-Author Publisher  \\\n",
       "0        0  0440234743  The Testament  John Grisham      Dell   \n",
       "\n",
       "   Year-Of-Publication categories  \\\n",
       "0                 1999    Fiction   \n",
       "\n",
       "                                         description  \\\n",
       "0  A suicidal billionaire, a burnt-out Washington...   \n",
       "\n",
       "                                         Image-URL-S  \\\n",
       "0  http://images.amazon.com/images/P/0440234743.0...   \n",
       "\n",
       "                                         Image-URL-M  \\\n",
       "0  http://images.amazon.com/images/P/0440234743.0...   \n",
       "\n",
       "                                         Image-URL-L  \n",
       "0  http://images.amazon.com/images/P/0440234743.0...  "
      ]
     },
     "execution_count": 125,
     "metadata": {},
     "output_type": "execute_result"
    }
   ],
   "source": [
    "books_df.head(1)"
   ]
  },
  {
   "cell_type": "code",
   "execution_count": 129,
   "id": "d71d3890-c23f-4d73-9159-9c21d16a1e4b",
   "metadata": {},
   "outputs": [
    {
     "data": {
      "text/plain": [
       "array([277427, 278026, 278418, ..., 276307, 276463, 276680], dtype=int64)"
      ]
     },
     "execution_count": 129,
     "metadata": {},
     "output_type": "execute_result"
    }
   ],
   "source": [
    "unique_user_ids = reviews_df['User-ID'].unique()\n",
    "unique_user_ids"
   ]
  },
  {
   "cell_type": "code",
   "execution_count": 131,
   "id": "531d93fc-e045-466f-aaa8-81ceefe2003f",
   "metadata": {},
   "outputs": [
    {
     "data": {
      "text/plain": [
       "1345"
      ]
     },
     "execution_count": 131,
     "metadata": {},
     "output_type": "execute_result"
    }
   ],
   "source": [
    "len(unique_user_ids)"
   ]
  },
  {
   "cell_type": "code",
   "execution_count": 88,
   "id": "f6e36cac-9172-488d-a3b8-39c14e957d1a",
   "metadata": {},
   "outputs": [],
   "source": [
    "def add_user_reviews(user_id, num_books):\n",
    "    # Select random books\n",
    "    selected_books = books_df.sample(n=num_books, replace=False)['Book-Id'].values\n",
    "\n",
    "    # Now, humans generally tend to leave more positive reviews overall\n",
    "    # So, we generate random ratings following a normal distribution centered around 7 to simulate that\n",
    "    ratings = np.clip(np.random.normal(loc=7, scale=2, size=num_books), 1, 10).astype(int)\n",
    "    \n",
    "    # Create the new ratings dataframe\n",
    "    new_ratings_df = pd.DataFrame({\n",
    "        'User-ID': [user_id] * num_books,\n",
    "        'Book-Rating': ratings,\n",
    "        'Book-Id': selected_books\n",
    "    })\n",
    "    \n",
    "    return new_ratings_df"
   ]
  },
  {
   "cell_type": "code",
   "execution_count": 96,
   "id": "080f9faf-3272-4ac0-88ea-02604fc7fccb",
   "metadata": {},
   "outputs": [],
   "source": [
    "def add_reviews_for_existing_users(ratings_df, user_count, num_books):\n",
    "    unique_user_ids = ratings_df['User-ID'].unique()\n",
    "    possible_user_ids = set(range(300001)) - set(unique_user_ids)\n",
    "    \n",
    "    # Select a specified number of random user IDs from the possible_user_ids\n",
    "    random_user_ids = np.random.choice(list(possible_user_ids), size=user_count, replace=False)\n",
    "    all_new_reviews_df = pd.DataFrame(columns=['User-ID', 'Book-Rating', 'Book-Id'])\n",
    "    \n",
    "    for user_id in random_user_ids:\n",
    "        new_reviews_df = add_user_reviews(user_id, num_books)\n",
    "        # Append new reviews to the all_new_reviews_df\n",
    "        all_new_reviews_df = pd.concat([all_new_reviews_df, new_reviews_df], ignore_index=True)\n",
    "    \n",
    "    return all_new_reviews_df"
   ]
  },
  {
   "cell_type": "code",
   "execution_count": 114,
   "id": "c99365a5-b35f-4146-b81a-434b49bf175c",
   "metadata": {},
   "outputs": [],
   "source": [
    "new_reviews = add_reviews_for_existing_users(reviews_df,1000,10)"
   ]
  },
  {
   "cell_type": "code",
   "execution_count": 115,
   "id": "7b7be8e8-e8d4-47d2-a35a-c4b0105fa1e3",
   "metadata": {},
   "outputs": [
    {
     "data": {
      "text/html": [
       "<div>\n",
       "<style scoped>\n",
       "    .dataframe tbody tr th:only-of-type {\n",
       "        vertical-align: middle;\n",
       "    }\n",
       "\n",
       "    .dataframe tbody tr th {\n",
       "        vertical-align: top;\n",
       "    }\n",
       "\n",
       "    .dataframe thead th {\n",
       "        text-align: right;\n",
       "    }\n",
       "</style>\n",
       "<table border=\"1\" class=\"dataframe\">\n",
       "  <thead>\n",
       "    <tr style=\"text-align: right;\">\n",
       "      <th></th>\n",
       "      <th>User-ID</th>\n",
       "      <th>Book-Rating</th>\n",
       "      <th>Book-Id</th>\n",
       "    </tr>\n",
       "  </thead>\n",
       "  <tbody>\n",
       "    <tr>\n",
       "      <th>0</th>\n",
       "      <td>83655</td>\n",
       "      <td>4</td>\n",
       "      <td>1118</td>\n",
       "    </tr>\n",
       "    <tr>\n",
       "      <th>1</th>\n",
       "      <td>83655</td>\n",
       "      <td>4</td>\n",
       "      <td>745</td>\n",
       "    </tr>\n",
       "    <tr>\n",
       "      <th>2</th>\n",
       "      <td>83655</td>\n",
       "      <td>8</td>\n",
       "      <td>130</td>\n",
       "    </tr>\n",
       "    <tr>\n",
       "      <th>3</th>\n",
       "      <td>83655</td>\n",
       "      <td>6</td>\n",
       "      <td>372</td>\n",
       "    </tr>\n",
       "    <tr>\n",
       "      <th>4</th>\n",
       "      <td>83655</td>\n",
       "      <td>3</td>\n",
       "      <td>1440</td>\n",
       "    </tr>\n",
       "    <tr>\n",
       "      <th>...</th>\n",
       "      <td>...</td>\n",
       "      <td>...</td>\n",
       "      <td>...</td>\n",
       "    </tr>\n",
       "    <tr>\n",
       "      <th>9995</th>\n",
       "      <td>289290</td>\n",
       "      <td>5</td>\n",
       "      <td>303</td>\n",
       "    </tr>\n",
       "    <tr>\n",
       "      <th>9996</th>\n",
       "      <td>289290</td>\n",
       "      <td>5</td>\n",
       "      <td>1307</td>\n",
       "    </tr>\n",
       "    <tr>\n",
       "      <th>9997</th>\n",
       "      <td>289290</td>\n",
       "      <td>6</td>\n",
       "      <td>1475</td>\n",
       "    </tr>\n",
       "    <tr>\n",
       "      <th>9998</th>\n",
       "      <td>289290</td>\n",
       "      <td>4</td>\n",
       "      <td>2202</td>\n",
       "    </tr>\n",
       "    <tr>\n",
       "      <th>9999</th>\n",
       "      <td>289290</td>\n",
       "      <td>7</td>\n",
       "      <td>35</td>\n",
       "    </tr>\n",
       "  </tbody>\n",
       "</table>\n",
       "<p>10000 rows × 3 columns</p>\n",
       "</div>"
      ],
      "text/plain": [
       "     User-ID Book-Rating Book-Id\n",
       "0      83655           4    1118\n",
       "1      83655           4     745\n",
       "2      83655           8     130\n",
       "3      83655           6     372\n",
       "4      83655           3    1440\n",
       "...      ...         ...     ...\n",
       "9995  289290           5     303\n",
       "9996  289290           5    1307\n",
       "9997  289290           6    1475\n",
       "9998  289290           4    2202\n",
       "9999  289290           7      35\n",
       "\n",
       "[10000 rows x 3 columns]"
      ]
     },
     "execution_count": 115,
     "metadata": {},
     "output_type": "execute_result"
    }
   ],
   "source": [
    "new_reviews"
   ]
  },
  {
   "cell_type": "code",
   "execution_count": 116,
   "id": "622c3ea8-a629-4f11-a76d-9c238d7b0751",
   "metadata": {},
   "outputs": [
    {
     "data": {
      "text/plain": [
       "(10000, 3)"
      ]
     },
     "execution_count": 116,
     "metadata": {},
     "output_type": "execute_result"
    }
   ],
   "source": [
    "new_reviews.shape"
   ]
  },
  {
   "cell_type": "code",
   "execution_count": 117,
   "id": "ff31737c-7003-44de-9fab-10515a816cf5",
   "metadata": {},
   "outputs": [
    {
     "name": "stdout",
     "output_type": "stream",
     "text": [
      "No overlapping User IDs found.\n"
     ]
    }
   ],
   "source": [
    "# Check if any duplicate users were added\n",
    "overlapping_user_ids = set(reviews_df['User-ID']).intersection(set(new_reviews['User-ID']))\n",
    "\n",
    "if overlapping_user_ids:\n",
    "    print(\"Overlapping User IDs found:\", overlapping_user_ids)\n",
    "else:\n",
    "    print(\"No overlapping User IDs found.\")"
   ]
  },
  {
   "cell_type": "code",
   "execution_count": 118,
   "id": "7eb8466d-3b9f-48d0-90d5-93f58d432d1d",
   "metadata": {},
   "outputs": [
    {
     "name": "stdout",
     "output_type": "stream",
     "text": [
      "All Book-Id values in all_new_reviews_df are present in book_df.\n"
     ]
    }
   ],
   "source": [
    "# Check if any non-existent books were added\n",
    "new_books_set = set(new_reviews['Book-Id'])\n",
    "existing_books_set = set(books_df['Book-Id'])\n",
    "\n",
    "missing_books = new_books_set - existing_books_set\n",
    "\n",
    "if missing_books:\n",
    "    print(\"Book-Id values present in all_new_reviews_df but not in book_df:\")\n",
    "    print(missing_books)\n",
    "else:\n",
    "    print(\"All Book-Id values in all_new_reviews_df are present in book_df.\")"
   ]
  },
  {
   "cell_type": "code",
   "execution_count": 119,
   "id": "f0327252-90b4-4c2c-b32d-2a0a607af4ee",
   "metadata": {},
   "outputs": [],
   "source": [
    "updated_reviews_df = pd.concat([reviews_df, new_reviews], ignore_index=True)"
   ]
  },
  {
   "cell_type": "code",
   "execution_count": 120,
   "id": "5ce24d66-58c0-4994-8c49-41ef320087ea",
   "metadata": {},
   "outputs": [
    {
     "data": {
      "text/plain": [
       "(17458, 3)"
      ]
     },
     "execution_count": 120,
     "metadata": {},
     "output_type": "execute_result"
    }
   ],
   "source": [
    "updated_reviews_df.shape"
   ]
  },
  {
   "cell_type": "code",
   "execution_count": 121,
   "id": "832315b0-7ae1-4345-a19a-ef01837d65f1",
   "metadata": {},
   "outputs": [],
   "source": [
    "updated_reviews_df.to_csv(\"./filtered_datasets/final_ratings_collab_generated.csv\", index=False)"
   ]
  },
  {
   "cell_type": "code",
   "execution_count": null,
   "id": "fe3b92aa-c963-45d2-8f85-48b819b6f383",
   "metadata": {},
   "outputs": [],
   "source": []
  }
 ],
 "metadata": {
  "kernelspec": {
   "display_name": "Python 3 (ipykernel)",
   "language": "python",
   "name": "python3"
  },
  "language_info": {
   "codemirror_mode": {
    "name": "ipython",
    "version": 3
   },
   "file_extension": ".py",
   "mimetype": "text/x-python",
   "name": "python",
   "nbconvert_exporter": "python",
   "pygments_lexer": "ipython3",
   "version": "3.12.3"
  }
 },
 "nbformat": 4,
 "nbformat_minor": 5
}
